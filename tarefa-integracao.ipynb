{
 "cells": [
  {
   "cell_type": "markdown",
   "metadata": {},
   "source": [
    "**Course website**: http://www.leouieda.com/matematica-especial\n",
    "\n",
    "**Note**: This notebook is part of the course \"Matemática Especial I\" of the [Universidade do Estado do Rio de Janeiro](http://www.uerj.br/). All content can be freely used and adapted under the terms of the \n",
    "[Creative Commons Attribution 4.0 International License](http://creativecommons.org/licenses/by/4.0/).\n",
    "\n",
    "![Creative Commons License](https://i.creativecommons.org/l/by/4.0/88x31.png)"
   ]
  },
  {
   "cell_type": "markdown",
   "metadata": {},
   "source": [
    "# Integração Numérica"
   ]
  },
  {
   "cell_type": "markdown",
   "metadata": {},
   "source": [
    "## Imports\n",
    "\n",
    "Coloque **todos** os `import` na célula abaixo. Não se esqueça do `%matplotlib inline` para que os gráficos apareçam no notebook."
   ]
  },
  {
   "cell_type": "code",
   "execution_count": 1,
   "metadata": {
    "collapsed": true
   },
   "outputs": [],
   "source": [
    "# Dessa vez vamos precisar da biblioteca matemática \"math\"\n",
    "# Ela define funções como sin, cos, tan, exp e constantes como pi\n",
    "import math\n",
    "import numpy as np\n",
    "import matplotlib.pyplot as plt\n",
    "%matplotlib inline"
   ]
  },
  {
   "cell_type": "markdown",
   "metadata": {},
   "source": [
    "# Tarefa 1"
   ]
  },
  {
   "cell_type": "markdown",
   "metadata": {},
   "source": [
    "## Regra dos retângulos\n",
    "\n",
    "O jeito mais simples de integração numérica é a regra dos retângulos. Nela, aproximamos a integral pela soma das áreas de retângulos. Cada retângulo se encontra abaixo de um dos pontos dos dados. A largura do retângulo é o espaçamento entre os dados $\\Delta$. A altura do retângulo é o valor do dado naquela posição $d_i$.\n",
    "\n",
    "Se tivermos nossos dados em um vetor de dados $\\bar{d}$ (**nota**: vetores serão representados com uma barra em cima):\n",
    "\n",
    "$$\n",
    "\\bar{d} = \\left[ d_1 ~ d_2 ~ d_3 ~ \\ldots ~ d_N \\right],\n",
    "$$\n",
    "\n",
    "a integral poderá ser aproximada pela soma das áreas dos retângulos:\n",
    "\n",
    "$$\n",
    "A = \\sum\\limits_{i=1}^{N} \\Delta d_i\n",
    "$$"
   ]
  },
  {
   "cell_type": "markdown",
   "metadata": {},
   "source": [
    "### Algoritmo\n",
    "\n",
    "Utilize a célula vazia abaixo (tipo Markdown) para colocar uma descrição do algoritmo em português (não em código). Não se esqueça de relacionar os passos do algoritmo com as fórmulas matemáticas do método.\n",
    "\n",
    "**Dicas**:\n",
    "\n",
    "* Help sobre Markdown: https://help.github.com/articles/markdown-basics/\n",
    "* Como utilizar fórmulas matemáticas: https://www.sharelatex.com/learn/Mathematical_expressions\n"
   ]
  },
  {
   "cell_type": "markdown",
   "metadata": {},
   "source": []
  },
  {
   "cell_type": "markdown",
   "metadata": {},
   "source": [
    "### Dados para teste\n",
    "\n",
    "Vamos utilizar dados gerados a partir de uma função $d(t) = \\cos(t)$ para testar o método de integração. A vantagem do cosseno é que sabemos quanto deve ser a integral:\n",
    "\n",
    "$$\n",
    "\\int\\limits_a^b \\cos(t) dt = \\sin(b) - \\sin(a)\n",
    "$$\n",
    "\n",
    "O código abaixo gera duas listas: uma com os tempos variando entre os limites de integração; outra com os valores correspondentes do cosseno."
   ]
  },
  {
   "cell_type": "code",
   "execution_count": 2,
   "metadata": {
    "collapsed": false
   },
   "outputs": [
    {
     "name": "stdout",
     "output_type": "stream",
     "text": [
      "Espaçamento entre os dados: 0.0320570678937734\n"
     ]
    }
   ],
   "source": [
    "# inicio e fim são os intervalos de integração\n",
    "inicio = 0\n",
    "fim = math.pi/2 # Funções trigonométricas utilizam ângulos em radianos!\n",
    "N = 50\n",
    "# Precisamos saber o intervalo entre cada ponto dos dados\n",
    "# A divisão é por N - 1 pois existem N - 1 intervalos entre N pontos\n",
    "intervalo = (fim - inicio)/(N - 1)\n",
    "print(\"Espaçamento entre os dados:\", intervalo)\n",
    "tempos = []\n",
    "dados = []\n",
    "for i in range(N):\n",
    "    t = inicio + i*intervalo\n",
    "    tempos.append(t)\n",
    "    dados.append(math.cos(t))"
   ]
  },
  {
   "cell_type": "markdown",
   "metadata": {},
   "source": [
    "Utilize a célula abaixo para gerar um gráfico de `dados` por `tempos`."
   ]
  },
  {
   "cell_type": "code",
   "execution_count": 10,
   "metadata": {
    "collapsed": false
   },
   "outputs": [
    {
     "data": {
      "text/plain": [
       "<matplotlib.text.Text at 0xaa04477198>"
      ]
     },
     "execution_count": 10,
     "metadata": {},
     "output_type": "execute_result"
    },
    {
     "data": {
      "image/png": "[encoded data removed]",
      "text/plain": [
       "<matplotlib.figure.Figure at 0xaa04383438>"
      ]
     },
     "metadata": {},
     "output_type": "display_data"
    }
   ],
   "source": [
    "plt.figure()\n",
    "plt.plot (dados,tempos,'r-')\n",
    "plt.xlabel ('Dados')\n",
    "plt.ylabel ('Tempo')\n",
    "plt.title ('Dados x Tempo')"
   ]
  },
  {
   "cell_type": "markdown",
   "metadata": {},
   "source": [
    "### Implementação\n",
    "\n",
    "Implemente a regra dos retângulos para integrar os dados gerados acima. Coloque seu cógido na célula abaixo."
   ]
  },
  {
   "cell_type": "code",
   "execution_count": null,
   "metadata": {
    "collapsed": true
   },
   "outputs": [],
   "source": []
  },
  {
   "cell_type": "markdown",
   "metadata": {},
   "source": [
    "Nas células abaixo calcule e imprima:\n",
    "\n",
    "1. A solução analítica (verdadeira) para a integral\n",
    "2. O erro cometido $E = \\left|res_{true} - res_{calc}\\right|$\n",
    "\n",
    "Dica: a função `abs` calcula o valor absoluto de um número."
   ]
  },
  {
   "cell_type": "code",
   "execution_count": null,
   "metadata": {
    "collapsed": true
   },
   "outputs": [],
   "source": []
  },
  {
   "cell_type": "markdown",
   "metadata": {},
   "source": [
    "### Questão 1\n",
    "**Responda na célula abaixo:** Por que o erro não é zero e quais são os fatores que influenciam o erro?"
   ]
  },
  {
   "cell_type": "markdown",
   "metadata": {},
   "source": []
  },
  {
   "cell_type": "markdown",
   "metadata": {},
   "source": [
    "### Resultado esperado\n",
    "\n",
    "No caso acima estamos integrando o cosseno de 0 a $\\pi/2$, então o valor esperado da integral é 1. Seu resultado não será exatamente 1 mas deve estar entre 0.9 e 1.1."
   ]
  },
  {
   "cell_type": "markdown",
   "metadata": {},
   "source": [
    "# Tarefa 2"
   ]
  },
  {
   "cell_type": "markdown",
   "metadata": {},
   "source": [
    "## Regra dos trapézios\n",
    "\n",
    "A regra dos trapézios é parecida com a regra dos retângulos. Mas utilizaremos a área de um trapézio ao invés da área de um retângulo. O trapézio será definido com base em dois pontos adjacentes nos dados ($d_i$ e $d_{i+1}$, por exemplo).\n",
    "\n",
    "$$\n",
    "A = \\sum\\limits_{i=1}^{N - 1} \\Delta \\frac{d_i + d_{i+1}}{2}\n",
    "$$"
   ]
  },
  {
   "cell_type": "markdown",
   "metadata": {},
   "source": [
    "### Algoritmo\n",
    "\n",
    "Descreva abaixo o algoritmo utilizado (em português) para fazer a integração numérica utilizando a regra dos trapézios."
   ]
  },
  {
   "cell_type": "markdown",
   "metadata": {},
   "source": []
  },
  {
   "cell_type": "markdown",
   "metadata": {},
   "source": [
    "### Implementação\n",
    "\n",
    "Vamos utilizar os mesmo dados utilizados na regra dos retângulos (na dúvida, rode novamente a célula que gera os dados). Abaixo, escreva e rode o código que faz a integração numérica com a regra dos trapézios. "
   ]
  },
  {
   "cell_type": "code",
   "execution_count": null,
   "metadata": {
    "collapsed": true
   },
   "outputs": [],
   "source": []
  },
  {
   "cell_type": "markdown",
   "metadata": {},
   "source": [
    "Calcule e imprima também a solução analíca e o erro cometido."
   ]
  },
  {
   "cell_type": "code",
   "execution_count": null,
   "metadata": {
    "collapsed": true
   },
   "outputs": [],
   "source": []
  },
  {
   "cell_type": "markdown",
   "metadata": {},
   "source": [
    "### Questão 2\n",
    "**Responda na célula abaixo:** O erro é maior ou menos que para a regra dos retângulos? Por que? Você esperava isso?"
   ]
  },
  {
   "cell_type": "markdown",
   "metadata": {},
   "source": []
  },
  {
   "cell_type": "markdown",
   "metadata": {},
   "source": [
    "### Resultado esperado\n",
    "\n",
    "Novamente, o valos esperado é 1 mas seu resultado não será exatamente 1 (mas deve estar entre 0.9 e 1.1)."
   ]
  },
  {
   "cell_type": "markdown",
   "metadata": {},
   "source": [
    "# Tarefa 3"
   ]
  },
  {
   "cell_type": "markdown",
   "metadata": {},
   "source": [
    "## Comparação dos dois métodos\n",
    "\n",
    "Vamos comparar o erro de ambos métodos. Uma comparação muito utilizada em métodos numéricos em geral é como o erro varia com o número de dados (ou pontos) utilizados.\n",
    "\n",
    "Nas células abaixo, calcule o erro da integração numérica para diferentes valores de `N`. Os valores de N deverão variar de 10 a 1000 de 10 em 10. Mantenha os intervalos de integração entre $0$ e $\\pi/2$. Faça esse cálculo para os dois métodos: retângulos e trapézios.\n",
    "\n",
    "Ao final, faça um gráfico do erro pelos valores de `N`. O gráfico deverá ter duas curvas, uma para cada método. O eixo y (erros) deverá estar em escala logarítmica.\n",
    "\n",
    "**Dicas**: \n",
    "\n",
    "* Gere uma lista dos valores de `N`.\n",
    "* Para colocar o eixo y em escala log: `plt.yscale('log')`"
   ]
  },
  {
   "cell_type": "code",
   "execution_count": null,
   "metadata": {
    "collapsed": true
   },
   "outputs": [],
   "source": []
  },
  {
   "cell_type": "code",
   "execution_count": null,
   "metadata": {
    "collapsed": true
   },
   "outputs": [],
   "source": []
  },
  {
   "cell_type": "markdown",
   "metadata": {},
   "source": [
    "### Questão 3\n",
    "**Responda na célula abaixo**: Como o erro varia com `N` para os dois métodos? Aumentar o número de dados de 50 para 200 nos dá a mesma diminuição no erro que aumentar de 650 para 800? Sempre vale a pena utilizar mais dados (lembre-se que a escala é logarítmica)? "
   ]
  },
  {
   "cell_type": "markdown",
   "metadata": {},
   "source": []
  },
  {
   "cell_type": "markdown",
   "metadata": {},
   "source": [
    "### Resultado esperado\n",
    "\n",
    "O gráfico ao final deverá ser parecido com:\n",
    "\n",
    "![images/erro-por-ndados.png](images/erro-por-ndados.png)"
   ]
  },
  {
   "cell_type": "markdown",
   "metadata": {},
   "source": [
    "# Tarefa 4\n",
    "Refazer a **tarefa 3** em forma de script, que deve seguir as mesmas regras de formatação que usamos nos notebooks de Python. O script deve gerar e salvar o gráfico no formato png, além de ter comentários explicando o seu código. O script deve se chamar tarefa4.py"
   ]
  },
  {
   "cell_type": "markdown",
   "metadata": {},
   "source": [
    "## Tarefa bônus: Probabilidades\n",
    "\n",
    "Vamos assumir que uma variável aleatória $x$ segue uma [distribuição normal](https://en.wikipedia.org/wiki/Normal_distribution) com média zero e desvio padrão $\\sigma$. Isso quer dizer que a [densidade de probabilidade](https://en.wikipedia.org/wiki/Probability_density_function) para $x$ é\n",
    "\n",
    "$$\n",
    "f(x) = \\frac{1}{\\sigma\\sqrt{2\\pi}} \\exp \\left( -\\frac{x^2}{2 \\sigma^2} \\right)\n",
    "$$\n",
    "\n",
    "A probabilidade de $x$ cair no intervalo $[a, b]$ é dada por ([refência](https://en.wikipedia.org/wiki/Probability_distribution#Continuous_probability_distribution)):\n",
    "\n",
    "$$\n",
    "P(a \\leq x \\leq b) = \\int\\limits_a^b f(x) dx\n",
    "$$\n",
    "\n",
    "Calcule na célula abaixo qual é a probabilidade de $x$ estar entre $[-\\sigma, +\\sigma]$ para $\\sigma = 5$."
   ]
  },
  {
   "cell_type": "code",
   "execution_count": null,
   "metadata": {
    "collapsed": true
   },
   "outputs": [],
   "source": []
  }
 ],
 "metadata": {
  "anaconda-cloud": {},
  "kernelspec": {
   "display_name": "Python [conda root]",
   "language": "python",
   "name": "conda-root-py"
  },
  "language_info": {
   "codemirror_mode": {
    "name": "ipython",
    "version": 3
   },
   "file_extension": ".py",
   "mimetype": "text/x-python",
   "name": "python",
   "nbconvert_exporter": "python",
   "pygments_lexer": "ipython3",
   "version": "3.5.2"
  }
 },
 "nbformat": 4,
 "nbformat_minor": 0
}
